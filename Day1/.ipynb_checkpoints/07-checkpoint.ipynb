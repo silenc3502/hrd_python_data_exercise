{
 "cells": [
  {
   "cell_type": "code",
   "execution_count": null,
   "id": "6f50aeff-fb60-4834-a9bc-7c650a16bd65",
   "metadata": {},
   "outputs": [],
   "source": [
    "# 그래프 해상도 설정\n",
    "import matplotlib.pyplot as plt\n",
    "plt.rcParams.update({'figure.dpi' : '100'})\n",
    "%config InlineBackend.figure_format = 'retina'"
   ]
  },
  {
   "cell_type": "markdown",
   "id": "e7b74b64-3715-4faf-95b8-c1602b1fc2d9",
   "metadata": {},
   "source": [
    "---"
   ]
  },
  {
   "cell_type": "markdown",
   "id": "f984908b-91a6-4439-92d4-ed9e220f92d6",
   "metadata": {
    "lines_to_next_cell": 0
   },
   "source": [
    "# 07 데이터 정제  - 빠진 데이터, 이상한 데이터 제거하기"
   ]
  },
  {
   "cell_type": "markdown",
   "id": "c0315059-546c-45a8-aec3-8453edf383ed",
   "metadata": {
    "lines_to_next_cell": 0
   },
   "source": [
    "## 07-1 빠진 데이터를 찾아라! - 결측치 정제하기"
   ]
  },
  {
   "cell_type": "markdown",
   "id": "025dca4b-aaf2-4ce9-b305-022b8306caee",
   "metadata": {
    "lines_to_next_cell": 0
   },
   "source": [
    "### 결측치 찾기\n",
    "\n",
    "#### 결측치 만들기"
   ]
  },
  {
   "cell_type": "code",
   "execution_count": null,
   "id": "71f69e91",
   "metadata": {
    "lines_to_next_cell": 0
   },
   "outputs": [],
   "source": [
    "import pandas as pd\n",
    "import numpy as np\n",
    "df = pd.DataFrame({'sex'   : ['M', 'F', np.nan, 'M', 'F'],\n",
    "                   'score' : [5, 4, 3, 4, np.nan]})\n",
    "df"
   ]
  },
  {
   "cell_type": "code",
   "execution_count": null,
   "id": "c9fce7c4",
   "metadata": {
    "lines_to_next_cell": 0
   },
   "outputs": [],
   "source": [
    "df['score'] + 1"
   ]
  },
  {
   "cell_type": "markdown",
   "id": "ff674c25",
   "metadata": {
    "lines_to_next_cell": 0
   },
   "source": [
    "#### 결측치 확인하기"
   ]
  },
  {
   "cell_type": "code",
   "execution_count": null,
   "id": "7a223d87",
   "metadata": {
    "lines_to_next_cell": 0
   },
   "outputs": [],
   "source": [
    "# 결측치 확인\n"
   ]
  },
  {
   "cell_type": "code",
   "execution_count": null,
   "id": "8c94d86b",
   "metadata": {
    "lines_to_next_cell": 0
   },
   "outputs": [],
   "source": [
    "# 결측치 빈도 확인\n"
   ]
  },
  {
   "cell_type": "markdown",
   "id": "f9424f95",
   "metadata": {
    "lines_to_next_cell": 0
   },
   "source": [
    "### 결측치 제거하기\n",
    "#### 결측치 있는 행 제거하기"
   ]
  },
  {
   "cell_type": "code",
   "execution_count": null,
   "id": "f89aa499",
   "metadata": {
    "lines_to_next_cell": 0
   },
   "outputs": [],
   "source": [
    "# score 결측치 제거\n"
   ]
  },
  {
   "cell_type": "code",
   "execution_count": null,
   "id": "4d486390",
   "metadata": {
    "lines_to_next_cell": 0
   },
   "outputs": [],
   "source": [
    "# score 결측치 제거된 데이터 만들기\n",
    "df_nomiss = ?? \n",
    "df_nomiss['score'] + 1                   # score로 연산"
   ]
  },
  {
   "cell_type": "markdown",
   "id": "275bbc06",
   "metadata": {
    "lines_to_next_cell": 0
   },
   "source": [
    "#### 여러 변수에 결측치 없는 데이터 추출하기"
   ]
  },
  {
   "cell_type": "code",
   "execution_count": null,
   "id": "1c7f493e",
   "metadata": {
    "lines_to_next_cell": 0
   },
   "outputs": [],
   "source": [
    "# score, sex 결측치 제거\n",
    "df_nomiss = ??  \n",
    "df_nomiss"
   ]
  },
  {
   "cell_type": "markdown",
   "id": "4551d8a1",
   "metadata": {
    "lines_to_next_cell": 0
   },
   "source": [
    "#### 결측치가 하나라도 있으면 제거하기"
   ]
  },
  {
   "cell_type": "code",
   "execution_count": null,
   "id": "792d1ac7",
   "metadata": {
    "lines_to_next_cell": 0
   },
   "outputs": [],
   "source": [
    "df_nomiss2 = df.dropna()  # 모든 변수에 결측치 없는 데이터 추출\n",
    "df_nomiss2"
   ]
  },
  {
   "cell_type": "markdown",
   "id": "4d0f9dba",
   "metadata": {
    "lines_to_next_cell": 0
   },
   "source": [
    "------------------------------------------------------------------------\n",
    "#### (알아 두면 좋아요) 결측치 제거하지 않고 분석하기\n",
    "####  "
   ]
  },
  {
   "cell_type": "code",
   "execution_count": null,
   "id": "159a2aaf",
   "metadata": {
    "lines_to_next_cell": 0
   },
   "outputs": [],
   "source": [
    "df['score'].mean()"
   ]
  },
  {
   "cell_type": "code",
   "execution_count": null,
   "id": "ab4929d6",
   "metadata": {
    "lines_to_next_cell": 0
   },
   "outputs": [],
   "source": [
    "df['score'].sum()"
   ]
  },
  {
   "cell_type": "code",
   "execution_count": null,
   "id": "4d64ad56",
   "metadata": {
    "lines_to_next_cell": 0
   },
   "outputs": [],
   "source": [
    "df.groupby('sex').agg(mean_score = ('score', 'mean'),\n",
    "                      sum_score  = ('score', 'sum'))"
   ]
  },
  {
   "cell_type": "markdown",
   "id": "07f707d2",
   "metadata": {
    "lines_to_next_cell": 0
   },
   "source": [
    "------------------------------------------------------------------------\n",
    "### 결측치 대체하기\n",
    "#### 평균값으로 결측치 대체하기"
   ]
  },
  {
   "cell_type": "code",
   "execution_count": null,
   "id": "703a2c41",
   "metadata": {
    "eval": false,
    "lines_to_next_cell": 0
   },
   "outputs": [],
   "source": [
    "exam = pd.read_csv('exam.csv')           # 데이터 불러오기\n",
    "exam.loc[[2, 7, 14], ['math']] = np.nan  # 2, 7, 14행의 math에 NaN 할당, \n",
    "                                         # df.loc[ [ 행위치, . . .] , [ 열위치, . . . ] ]   # 16-2 절 참조\n",
    "\n",
    "exam"
   ]
  },
  {
   "cell_type": "code",
   "execution_count": null,
   "id": "7559cf55",
   "metadata": {
    "lines_to_next_cell": 0
   },
   "outputs": [],
   "source": [
    "exam['math'].mean()"
   ]
  },
  {
   "cell_type": "code",
   "execution_count": null,
   "id": "6cb03179",
   "metadata": {
    "lines_to_next_cell": 0
   },
   "outputs": [],
   "source": [
    "# math가 NaN이면 55로 대체\n",
    "exam['math'] = ?? \n",
    "exam                                    # 출력"
   ]
  },
  {
   "cell_type": "code",
   "execution_count": null,
   "id": "f2c27673",
   "metadata": {
    "lines_to_next_cell": 0
   },
   "outputs": [],
   "source": [
    "exam['math'].isna().sum()  # 결측치 빈도 확인"
   ]
  },
  {
   "cell_type": "markdown",
   "id": "869ff5ae",
   "metadata": {
    "lines_to_next_cell": 0
   },
   "source": [
    "---\n",
    "## 07-2 이상한 데이터를 찾아라! - 이상치 정제하기\n",
    "### 이상치 제거하기 - 존재할 수 없는 값\n"
   ]
  },
  {
   "cell_type": "code",
   "execution_count": null,
   "id": "2922b591",
   "metadata": {
    "lines_to_next_cell": 0
   },
   "outputs": [],
   "source": [
    "df = pd.DataFrame({'sex'   : [1, 2, 1, 3, 2, 1], \n",
    "                   'score' : [5, 4, 3, 4, 2, 6]})\n",
    "df"
   ]
  },
  {
   "cell_type": "markdown",
   "id": "e0661fff",
   "metadata": {
    "lines_to_next_cell": 0
   },
   "source": [
    "#### 이상치 확인하기\n",
    "##### 정상치 - sex(1,2) / score(1~5)\n",
    "##### value_counts().sort_index() 이용 : 빈도 기준이 아니라 변수 값 순서로 정렬"
   ]
  },
  {
   "cell_type": "code",
   "execution_count": null,
   "id": "92b7c91a",
   "metadata": {
    "lines_to_next_cell": 0
   },
   "outputs": [],
   "source": [
    "# 'sex' 변수의 이상치 확인 (1,2)\n"
   ]
  },
  {
   "cell_type": "code",
   "execution_count": null,
   "id": "9c3d5ca7",
   "metadata": {
    "lines_to_next_cell": 0
   },
   "outputs": [],
   "source": [
    "# 'score' 변수의 이상치 확인 (0~5)\n"
   ]
  },
  {
   "cell_type": "markdown",
   "id": "b0303daa",
   "metadata": {
    "lines_to_next_cell": 0
   },
   "source": [
    "#### 결측 처리하기\n",
    "##### numpy.where() 함수 이용 결측처리"
   ]
  },
  {
   "cell_type": "code",
   "execution_count": null,
   "id": "a2de1598",
   "metadata": {
    "lines_to_next_cell": 0
   },
   "outputs": [],
   "source": [
    "# sex가 3이면 NaN 부여\n",
    "\n",
    "df"
   ]
  },
  {
   "cell_type": "code",
   "execution_count": null,
   "id": "3df550e3",
   "metadata": {
    "lines_to_next_cell": 0
   },
   "outputs": [],
   "source": [
    "# score가 5보다 크면 NaN 부여\n",
    "\n",
    "df"
   ]
  },
  {
   "cell_type": "code",
   "execution_count": null,
   "id": "c001b09e-6e6e-4de6-8077-685a026b4b9f",
   "metadata": {
    "lines_to_next_cell": 0
   },
   "outputs": [],
   "source": [
    "# sex, score 결측치 제거\n",
    "# sex별 분리\n",
    "# score 평균 구하기\n",
    "df.dropna(subset = ['sex', 'score']) \\\n",
    "       .groupby('sex') \\\n",
    "       .agg(mean_score = ('score', 'mean'))"
   ]
  },
  {
   "cell_type": "markdown",
   "id": "ab0f9c64",
   "metadata": {
    "lines_to_next_cell": 0
   },
   "source": [
    "------------------------------------------------------------------------\n",
    "#### (알아 두면 좋아요) `np.where()`는 문자와 `NaN`을 함께 반환할 수 없습니다."
   ]
  },
  {
   "cell_type": "code",
   "execution_count": null,
   "id": "3e6ad99f",
   "metadata": {
    "lines_to_next_cell": 0
   },
   "outputs": [],
   "source": [
    "df = pd.DataFrame({'x1' : [1, 1, 2, 2]})\n",
    "df['x2'] = np.where(df['x1'] == 1, 'a', np.nan)  # 조건에 맞으면 문자 부여\n",
    "df"
   ]
  },
  {
   "cell_type": "code",
   "execution_count": null,
   "id": "e8a343ab",
   "metadata": {
    "lines_to_next_cell": 0
   },
   "outputs": [],
   "source": [
    "df.isna()"
   ]
  },
  {
   "cell_type": "code",
   "execution_count": null,
   "id": "4e20a474",
   "metadata": {
    "lines_to_next_cell": 0
   },
   "outputs": [],
   "source": [
    "# 결측치로 만들 값에 문자 부여\n",
    "df['x2'] = np.where(df['x1'] == 1, 'a', 'etc')"
   ]
  },
  {
   "cell_type": "code",
   "execution_count": null,
   "id": "8f682a58",
   "metadata": {
    "lines_to_next_cell": 0
   },
   "outputs": [],
   "source": [
    "# 'etc'를 NaN으로 바꾸기\n",
    "df['x2'] = df['x2'].replace('etc', np.nan)  "
   ]
  },
  {
   "cell_type": "code",
   "execution_count": null,
   "id": "4c6e065d",
   "metadata": {
    "lines_to_next_cell": 0
   },
   "outputs": [],
   "source": [
    "df"
   ]
  },
  {
   "cell_type": "code",
   "execution_count": null,
   "id": "f2205aaa",
   "metadata": {
    "lines_to_next_cell": 0
   },
   "outputs": [],
   "source": [
    "df.isna()"
   ]
  },
  {
   "cell_type": "markdown",
   "id": "358fd945",
   "metadata": {
    "lines_to_next_cell": 0
   },
   "source": [
    "------------------------------------------------------------------------\n",
    "### 이상치 제거하기 - 극단적인 값\n",
    "\n",
    "#### 상자 그림으로 극단치 기준 정하기\n",
    "\n",
    "##### 1. 상자 그림 살펴보기"
   ]
  },
  {
   "cell_type": "code",
   "execution_count": null,
   "id": "73eff97e",
   "metadata": {
    "eval": false,
    "lines_to_next_cell": 0
   },
   "outputs": [],
   "source": [
    "mpg = pd.read_csv('mpg.csv')\n",
    "\n",
    "import seaborn as sns\n",
    "sns.boxplot(data = mpg, y = 'hwy')"
   ]
  },
  {
   "cell_type": "markdown",
   "id": "c01c685e-3e03-43cd-8774-e6e57442da6c",
   "metadata": {
    "lines_to_next_cell": 0
   },
   "source": [
    "##### 2.극단치 기준값 구하기\n",
    "\n",
    "**(1) 1사분위수, 3사분위수 구하기**"
   ]
  },
  {
   "cell_type": "code",
   "execution_count": null,
   "id": "634d597a",
   "metadata": {
    "lines_to_next_cell": 0
   },
   "outputs": [],
   "source": [
    "pct25 = mpg['hwy'].quantile(.25)\n",
    "pct25"
   ]
  },
  {
   "cell_type": "code",
   "execution_count": null,
   "id": "91b1bead",
   "metadata": {
    "lines_to_next_cell": 0
   },
   "outputs": [],
   "source": [
    "pct75 = mpg['hwy'].quantile(.75)\n",
    "pct75"
   ]
  },
  {
   "cell_type": "markdown",
   "id": "f68e7673",
   "metadata": {
    "lines_to_next_cell": 0
   },
   "source": [
    "**(2) IQR 구하기**"
   ]
  },
  {
   "cell_type": "code",
   "execution_count": null,
   "id": "0e5dbb68",
   "metadata": {
    "lines_to_next_cell": 0
   },
   "outputs": [],
   "source": [
    "iqr = pct75 - pct25\n",
    "iqr"
   ]
  },
  {
   "cell_type": "markdown",
   "id": "e9c8adc6",
   "metadata": {
    "lines_to_next_cell": 0
   },
   "source": [
    "**(3) 하한, 상한 구하기**"
   ]
  },
  {
   "cell_type": "code",
   "execution_count": null,
   "id": "b788b533",
   "metadata": {
    "lines_to_next_cell": 0
   },
   "outputs": [],
   "source": [
    "pct25 - 1.5 * iqr  # 하한"
   ]
  },
  {
   "cell_type": "code",
   "execution_count": null,
   "id": "1fb15a44",
   "metadata": {
    "lines_to_next_cell": 0
   },
   "outputs": [],
   "source": [
    "pct75 + 1.5 * iqr  # 상한"
   ]
  },
  {
   "cell_type": "markdown",
   "id": "8e777555",
   "metadata": {
    "lines_to_next_cell": 0
   },
   "source": [
    "##### 3. 극단치를 결측 처리하기"
   ]
  },
  {
   "cell_type": "code",
   "execution_count": null,
   "id": "e9523bb1",
   "metadata": {
    "lines_to_next_cell": 0
   },
   "outputs": [],
   "source": [
    "# 4.5 ~ 40.5 벗어나면 NaN 부여\n",
    "mpg['hwy'] = np.where((mpg['hwy'] < 4.5) | (mpg['hwy'] > 40.5), np.nan, mpg['hwy'])\n",
    "\n",
    "# 결측치 빈도 확인\n",
    "mpg['hwy'].isna().sum()"
   ]
  },
  {
   "cell_type": "markdown",
   "id": "9933aa80",
   "metadata": {
    "lines_to_next_cell": 0
   },
   "source": [
    "##### 4. 결측치 제거하고 분석하기"
   ]
  },
  {
   "cell_type": "code",
   "execution_count": null,
   "id": "c48cf10c-d289-46b0-9515-d4b4f6b410ac",
   "metadata": {
    "lines_to_next_cell": 0
   },
   "outputs": [],
   "source": [
    "# hwy 결측치 제거\n",
    "# drv별 분리\n",
    "# hwy 평균 구하기\n",
    "mpg.dropna(subset = 'hwy') \\\n",
    "   .groupby('drv') \\\n",
    "   .agg(mean_hwy = ('hwy', 'mean'))"
   ]
  },
  {
   "cell_type": "markdown",
   "id": "bd6752a0",
   "metadata": {
    "lines_to_next_cell": 0
   },
   "source": [
    "### 정리하기"
   ]
  },
  {
   "cell_type": "code",
   "execution_count": null,
   "id": "e319f3bf",
   "metadata": {
    "eval": false,
    "tags": [
     "raise-exception"
    ]
   },
   "outputs": [],
   "source": [
    "## 1. 결측치 정제하기\n",
    "pd.isna(df).sum()                                 # 결측치 확인\n",
    "df_nomiss = df.dropna(subset = ['score'])         # 결측치 제거\n",
    "df_nomiss = df.dropna(subset = ['score', 'sex'])  # 여러 변수 동시에 결측치 제거\n",
    "\n",
    "\n",
    "## 2. 이상치 정제하기\n",
    "\n",
    "# 이상치 확인\n",
    "df['sex'].value_counts(sort = False)\n",
    "\n",
    "# 이상치 결측 처리\n",
    "df['sex'] = np.where(df['sex'] == 3, np.nan, df['sex'])\n",
    "\n",
    "# 상자 그림으로 극단치 기준값 찾기\n",
    "pct25 = mpg['hwy'].quantile(.25)  # 1사분위수\n",
    "pct75 = mpg['hwy'].quantile(.75)  # 3사분위수\n",
    "iqr = pct75 - pct25               # IQR\n",
    "pct25 - 1.5 * iqr                 # 하한\n",
    "pct75 + 1.5 * iqr                 # 상한\n",
    "\n",
    "# 극단치 결측 처리\n",
    "mpg['hwy'] = np.where((mpg['hwy'] < 4.5) | (mpg['hwy'] > 40.5), np.nan, mpg['hwy'])"
   ]
  }
 ],
 "metadata": {
  "jupytext": {
   "cell_metadata_filter": "eval,name,tags,echo,-all",
   "notebook_metadata_filter": "-all"
  },
  "kernelspec": {
   "display_name": "Python 3 (ipykernel)",
   "language": "python",
   "name": "python3"
  },
  "language_info": {
   "codemirror_mode": {
    "name": "ipython",
    "version": 3
   },
   "file_extension": ".py",
   "mimetype": "text/x-python",
   "name": "python",
   "nbconvert_exporter": "python",
   "pygments_lexer": "ipython3",
   "version": "3.11.7"
  },
  "toc-autonumbering": false,
  "toc-showcode": false,
  "toc-showmarkdowntxt": false
 },
 "nbformat": 4,
 "nbformat_minor": 5
}
